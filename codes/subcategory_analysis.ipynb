{
 "cells": [
  {
   "cell_type": "code",
   "execution_count": 1,
   "id": "3841ad85",
   "metadata": {},
   "outputs": [],
   "source": [
    "import numpy as np\n",
    "import pandas as pd\n",
    "import statsmodels.api as sm\n",
    "import statsmodels.formula.api as smf\n",
    "import matplotlib.pyplot as plt\n",
    "import seaborn as sns"
   ]
  },
  {
   "cell_type": "code",
   "execution_count": 3,
   "id": "78d03f4c",
   "metadata": {},
   "outputs": [
    {
     "data": {
      "text/html": [
       "<div>\n",
       "<style scoped>\n",
       "    .dataframe tbody tr th:only-of-type {\n",
       "        vertical-align: middle;\n",
       "    }\n",
       "\n",
       "    .dataframe tbody tr th {\n",
       "        vertical-align: top;\n",
       "    }\n",
       "\n",
       "    .dataframe thead th {\n",
       "        text-align: right;\n",
       "    }\n",
       "</style>\n",
       "<table border=\"1\" class=\"dataframe\">\n",
       "  <thead>\n",
       "    <tr style=\"text-align: right;\">\n",
       "      <th></th>\n",
       "      <th>Category</th>\n",
       "      <th>Time</th>\n",
       "      <th>Price Index</th>\n",
       "    </tr>\n",
       "  </thead>\n",
       "  <tbody>\n",
       "    <tr>\n",
       "      <th>0</th>\n",
       "      <td>Nonmanufactory</td>\n",
       "      <td>19-Dec</td>\n",
       "      <td>-0.015017</td>\n",
       "    </tr>\n",
       "    <tr>\n",
       "      <th>1</th>\n",
       "      <td>Nonmanufactory</td>\n",
       "      <td>20-Jan</td>\n",
       "      <td>-0.029362</td>\n",
       "    </tr>\n",
       "    <tr>\n",
       "      <th>2</th>\n",
       "      <td>Nonmanufactory</td>\n",
       "      <td>20-Feb</td>\n",
       "      <td>-0.136126</td>\n",
       "    </tr>\n",
       "    <tr>\n",
       "      <th>3</th>\n",
       "      <td>Nonmanufactory</td>\n",
       "      <td>20-Mar</td>\n",
       "      <td>-0.284848</td>\n",
       "    </tr>\n",
       "    <tr>\n",
       "      <th>4</th>\n",
       "      <td>Nonmanufactory</td>\n",
       "      <td>20-Apr</td>\n",
       "      <td>-0.411488</td>\n",
       "    </tr>\n",
       "  </tbody>\n",
       "</table>\n",
       "</div>"
      ],
      "text/plain": [
       "         Category    Time  Price Index\n",
       "0  Nonmanufactory  19-Dec    -0.015017\n",
       "1  Nonmanufactory  20-Jan    -0.029362\n",
       "2  Nonmanufactory  20-Feb    -0.136126\n",
       "3  Nonmanufactory  20-Mar    -0.284848\n",
       "4  Nonmanufactory  20-Apr    -0.411488"
      ]
     },
     "execution_count": 3,
     "metadata": {},
     "output_type": "execute_result"
    }
   ],
   "source": [
    "price_data = pd.read_csv('../data/processed/canada_subcategories.csv')\n",
    "price_data.head()"
   ]
  },
  {
   "cell_type": "code",
   "execution_count": 9,
   "id": "0022ed9d",
   "metadata": {},
   "outputs": [
    {
     "name": "stderr",
     "output_type": "stream",
     "text": [
      "/Users/wenqianzhang/opt/anaconda3/lib/python3.8/site-packages/IPython/core/interactiveshell.py:3165: DtypeWarning: Columns (2,3) have mixed types.Specify dtype option on import or set low_memory=False.\n",
      "  has_raised = await self.run_ast_nodes(code_ast.body, cell_name,\n"
     ]
    }
   ],
   "source": [
    "policy_data = pd.read_csv('../data/OxCGRT_latest.csv')\n",
    "ca_policy_data = policy_data[policy_data['CountryName'] == 'Canada'].copy()\n",
    "# ca_policy_data.drop(columns=['Country', 'Price Index'], inplace=True)"
   ]
  },
  {
   "cell_type": "code",
   "execution_count": 11,
   "id": "06864f89",
   "metadata": {},
   "outputs": [],
   "source": [
    "cols = ['CountryName', 'RegionName', 'Date', 'C1_School closing', 'C2_Workplace closing', 'C3_Cancel public events', \n",
    "        'C4_Restrictions on gatherings', 'C5_Close public transport', 'C6_Stay at home requirements',\n",
    "       'C7_Restrictions on internal movement', 'C8_International travel controls', \n",
    "        'ConfirmedCases', 'ConfirmedDeaths', 'StringencyIndex']\n",
    "ca_policy_data = ca_policy_data[cols].copy()"
   ]
  },
  {
   "cell_type": "code",
   "execution_count": 12,
   "id": "c38e1609",
   "metadata": {},
   "outputs": [],
   "source": [
    "ca_policy_data['Date'] = pd.to_datetime(ca_policy_data['Date'], format=\"%Y%m%d\")\n",
    "\n",
    "ca_policy_data = ca_policy_data.fillna(0)\n",
    "ca_policy_data['month'] = ca_policy_data['Date'].apply(lambda x: str(x.year) + '-' + str(x.month))"
   ]
  },
  {
   "cell_type": "code",
   "execution_count": 15,
   "id": "b51ce3b1",
   "metadata": {},
   "outputs": [],
   "source": [
    "agg_data = ca_policy_data.groupby(['month']).mean().reset_index()"
   ]
  },
  {
   "cell_type": "code",
   "execution_count": 17,
   "id": "3f81bdf4",
   "metadata": {},
   "outputs": [],
   "source": [
    "agg_data['log_cases'] = np.log1p(agg_data['ConfirmedCases'])\n",
    "agg_data['log_death'] = np.log1p(agg_data['ConfirmedDeaths'])"
   ]
  },
  {
   "cell_type": "code",
   "execution_count": 20,
   "id": "59ff700b",
   "metadata": {},
   "outputs": [],
   "source": [
    "agg_data['month'] = pd.to_datetime(agg_data['month'])\n",
    "price_data['month'] = pd.to_datetime(price_data['Time'], format=\"%y-%b\")"
   ]
  },
  {
   "cell_type": "code",
   "execution_count": 33,
   "id": "f6e2f605",
   "metadata": {},
   "outputs": [],
   "source": [
    "ca_policy = pd.merge(price_data, agg_data, on=['month'])\n",
    "ca_policy['date'] = ca_policy['month'].dt.to_period('M') - pd.to_datetime('2020-01-01').to_period('M')\n",
    "ca_policy['date'] = ca_policy['date'].apply(lambda x: x.n)\n",
    "# ca_policy.to_csv('../data/processed/ca_policy.csv', index=False)"
   ]
  },
  {
   "cell_type": "code",
   "execution_count": 39,
   "id": "285aa26b",
   "metadata": {},
   "outputs": [
    {
     "data": {
      "text/plain": [
       "Index(['Category', 'Time', 'Price Index', 'month', 'C1_School closing',\n",
       "       'C2_Workplace closing', 'C3_Cancel public events',\n",
       "       'C4_Restrictions on gatherings', 'C5_Close public transport',\n",
       "       'C6_Stay at home requirements', 'C7_Restrictions on internal movement',\n",
       "       'C8_International travel controls', 'ConfirmedCases', 'ConfirmedDeaths',\n",
       "       'StringencyIndex', 'log_cases', 'log_death', 'date'],\n",
       "      dtype='object')"
      ]
     },
     "execution_count": 39,
     "metadata": {},
     "output_type": "execute_result"
    }
   ],
   "source": [
    "ca_policy.columns"
   ]
  },
  {
   "cell_type": "code",
   "execution_count": 2,
   "id": "658d4d0a",
   "metadata": {},
   "outputs": [],
   "source": [
    "def regression_analysis(data_path):\n",
    "    data = pd.read_csv(data_path)\n",
    "    data.columns = [x.replace(' ', '_') for x in data.columns]\n",
    "#     print(data.columns)\n",
    "#     vc = {'Country': '0 + C(Country)'}\n",
    "    md = smf.mixedlm('Price_Index ~ date + C1_School_closing + C2_Workplace_closing + C3_Cancel_public_events + C4_Restrictions_on_gatherings + C5_Close_public_transport + C6_Stay_at_home_requirements + C7_Restrictions_on_internal_movement + C8_International_travel_controls + log_cases + log_death',\n",
    "                     \n",
    "                re_formula='~ C8_International_travel_controls', data=data, groups='Category')\n",
    "    mdf = md.fit(method=[\"lbfgs\"])\n",
    "    print(mdf.summary())\n",
    "    \n",
    "    return mdf"
   ]
  },
  {
   "cell_type": "code",
   "execution_count": 3,
   "id": "385ba120",
   "metadata": {},
   "outputs": [
    {
     "name": "stdout",
     "output_type": "stream",
     "text": [
      "                          Mixed Linear Model Regression Results\n",
      "==========================================================================================\n",
      "Model:                       MixedLM            Dependent Variable:            Price_Index\n",
      "No. Observations:            108                Method:                        REML       \n",
      "No. Groups:                  4                  Scale:                         0.0087     \n",
      "Min. group size:             27                 Log-Likelihood:                68.7976    \n",
      "Max. group size:             27                 Converged:                     No         \n",
      "Mean group size:             27.0                                                         \n",
      "------------------------------------------------------------------------------------------\n",
      "                                                Coef.  Std.Err.   z    P>|z| [0.025 0.975]\n",
      "------------------------------------------------------------------------------------------\n",
      "Intercept                                       -0.155    0.127 -1.228 0.220 -0.403  0.093\n",
      "date                                            -0.007    0.007 -0.906 0.365 -0.021  0.008\n",
      "C1_School_closing                                0.075    0.040  1.881 0.060 -0.003  0.154\n",
      "C2_Workplace_closing                            -0.112    0.064 -1.746 0.081 -0.238  0.014\n",
      "C3_Cancel_public_events                          0.156    0.129  1.209 0.227 -0.097  0.409\n",
      "C4_Restrictions_on_gatherings                    0.090    0.067  1.348 0.178 -0.041  0.221\n",
      "C5_Close_public_transport                       -0.367    0.259 -1.419 0.156 -0.874  0.140\n",
      "C6_Stay_at_home_requirements                    -0.093    0.077 -1.198 0.231 -0.244  0.059\n",
      "C7_Restrictions_on_internal_movement            -0.001    0.128 -0.007 0.995 -0.253  0.251\n",
      "C8_International_travel_controls                -0.187    0.069 -2.699 0.007 -0.323 -0.051\n",
      "log_cases                                        0.043    0.027  1.604 0.109 -0.009  0.095\n",
      "log_death                                        0.031    0.028  1.085 0.278 -0.025  0.086\n",
      "Category Var                                     0.000    0.041                           \n",
      "Category x C8_International_travel_controls Cov -0.000                                    \n",
      "C8_International_travel_controls Var             0.005                                    \n",
      "==========================================================================================\n",
      "\n"
     ]
    },
    {
     "name": "stderr",
     "output_type": "stream",
     "text": [
      "/Users/wenqianzhang/opt/anaconda3/lib/python3.8/site-packages/statsmodels/base/model.py:566: ConvergenceWarning: Maximum Likelihood optimization failed to converge. Check mle_retvals\n",
      "  warnings.warn(\"Maximum Likelihood optimization failed to \"\n",
      "/Users/wenqianzhang/opt/anaconda3/lib/python3.8/site-packages/statsmodels/regression/mixed_linear_model.py:2206: ConvergenceWarning: MixedLM optimization failed, trying a different optimizer may help.\n",
      "  warnings.warn(msg, ConvergenceWarning)\n",
      "/Users/wenqianzhang/opt/anaconda3/lib/python3.8/site-packages/statsmodels/regression/mixed_linear_model.py:2218: ConvergenceWarning: Gradient optimization failed, |grad| = 3.807946\n",
      "  warnings.warn(msg, ConvergenceWarning)\n",
      "/Users/wenqianzhang/opt/anaconda3/lib/python3.8/site-packages/statsmodels/regression/mixed_linear_model.py:2237: ConvergenceWarning: The MLE may be on the boundary of the parameter space.\n",
      "  warnings.warn(msg, ConvergenceWarning)\n",
      "/Users/wenqianzhang/opt/anaconda3/lib/python3.8/site-packages/statsmodels/regression/mixed_linear_model.py:2261: ConvergenceWarning: The Hessian matrix at the estimated parameter values is not positive definite.\n",
      "  warnings.warn(msg, ConvergenceWarning)\n"
     ]
    }
   ],
   "source": [
    "mdf = regression_analysis('../data/processed/ca_policy.csv')"
   ]
  },
  {
   "cell_type": "code",
   "execution_count": 8,
   "id": "12743261",
   "metadata": {},
   "outputs": [
    {
     "data": {
      "image/png": "[encoded data removed]",
      "text/plain": [
       "<Figure size 864x576 with 1 Axes>"
      ]
     },
     "metadata": {},
     "output_type": "display_data"
    }
   ],
   "source": [
    "re_category = pd.DataFrame(mdf.random_effects).T\n",
    "\n",
    "import matplotlib.pyplot as plt\n",
    "import seaborn as sns\n",
    "plt.style.use(\"fivethirtyeight\")\n",
    "\n",
    "\n",
    "fig = plt.figure(figsize=(12, 8))\n",
    "sns.barplot(x=re_category.index, y=re_category['C8_International_travel_controls'], \n",
    "            palette=[sns.color_palette(\"Paired\")[4], sns.color_palette(\"Paired\")[1], sns.color_palette(\"Paired\")[4],\n",
    "                  sns.color_palette(\"Paired\")[1]])\n",
    "plt.title(\"Random Effects Among Different Categories\", fontsize=18)\n",
    "g = plt.xticks(fontsize=15)\n",
    "plt.xlabel(\"Category\", fontsize=16)\n",
    "plt.ylabel(\"Random Effects (offset from average effects)\", fontsize=16)\n",
    "plt.legend(['1: food manufactory', '2: paper, petroleum, coal & chemical', '3: primary metal & machinery', \n",
    "            'Nonmanufactory'])\n",
    "plt.savefig('../images/re_viz_ca.png', dpi=300, bbox_inches='tight')"
   ]
  },
  {
   "cell_type": "code",
   "execution_count": null,
   "id": "34de63cc",
   "metadata": {},
   "outputs": [],
   "source": []
  }
 ],
 "metadata": {
  "kernelspec": {
   "display_name": "Python 3",
   "language": "python",
   "name": "python3"
  },
  "language_info": {
   "codemirror_mode": {
    "name": "ipython",
    "version": 3
   },
   "file_extension": ".py",
   "mimetype": "text/x-python",
   "name": "python",
   "nbconvert_exporter": "python",
   "pygments_lexer": "ipython3",
   "version": "3.8.8"
  }
 },
 "nbformat": 4,
 "nbformat_minor": 5
}
