{
 "cells": [
  {
   "cell_type": "code",
   "execution_count": 1,
   "id": "735eef04",
   "metadata": {},
   "outputs": [],
   "source": [
    "import numpy as np\n",
    "import pandas as pd\n",
    "import matplotlib.pyplot as plt"
   ]
  },
  {
   "cell_type": "code",
   "execution_count": 61,
   "id": "be8cdad1",
   "metadata": {},
   "outputs": [
    {
     "data": {
      "text/html": [
       "<div>\n",
       "<style scoped>\n",
       "    .dataframe tbody tr th:only-of-type {\n",
       "        vertical-align: middle;\n",
       "    }\n",
       "\n",
       "    .dataframe tbody tr th {\n",
       "        vertical-align: top;\n",
       "    }\n",
       "\n",
       "    .dataframe thead th {\n",
       "        text-align: right;\n",
       "    }\n",
       "</style>\n",
       "<table border=\"1\" class=\"dataframe\">\n",
       "  <thead>\n",
       "    <tr style=\"text-align: right;\">\n",
       "      <th></th>\n",
       "      <th>Country</th>\n",
       "      <th>Time</th>\n",
       "      <th>Price Index</th>\n",
       "    </tr>\n",
       "  </thead>\n",
       "  <tbody>\n",
       "    <tr>\n",
       "      <th>0</th>\n",
       "      <td>Canada</td>\n",
       "      <td>19-Dec</td>\n",
       "      <td>138.0</td>\n",
       "    </tr>\n",
       "    <tr>\n",
       "      <th>1</th>\n",
       "      <td>Canada</td>\n",
       "      <td>20-Jan</td>\n",
       "      <td>137.1</td>\n",
       "    </tr>\n",
       "    <tr>\n",
       "      <th>2</th>\n",
       "      <td>Canada</td>\n",
       "      <td>20-Feb</td>\n",
       "      <td>130.8</td>\n",
       "    </tr>\n",
       "    <tr>\n",
       "      <th>3</th>\n",
       "      <td>Canada</td>\n",
       "      <td>20-Mar</td>\n",
       "      <td>120.5</td>\n",
       "    </tr>\n",
       "    <tr>\n",
       "      <th>4</th>\n",
       "      <td>Canada</td>\n",
       "      <td>20-Apr</td>\n",
       "      <td>106.3</td>\n",
       "    </tr>\n",
       "  </tbody>\n",
       "</table>\n",
       "</div>"
      ],
      "text/plain": [
       "  Country    Time  Price Index\n",
       "0  Canada  19-Dec        138.0\n",
       "1  Canada  20-Jan        137.1\n",
       "2  Canada  20-Feb        130.8\n",
       "3  Canada  20-Mar        120.5\n",
       "4  Canada  20-Apr        106.3"
      ]
     },
     "execution_count": 61,
     "metadata": {},
     "output_type": "execute_result"
    }
   ],
   "source": [
    "imp_data = pd.read_csv(\"../data/longimp1/import.csv\", )\n",
    "imp_data.head()"
   ]
  },
  {
   "cell_type": "code",
   "execution_count": 62,
   "id": "cf62ec01",
   "metadata": {},
   "outputs": [],
   "source": [
    "imp_data['Time'] = pd.to_datetime(imp_data['Time'], format=\"%y-%b\")"
   ]
  },
  {
   "cell_type": "code",
   "execution_count": 63,
   "id": "4d1f8abe",
   "metadata": {},
   "outputs": [
    {
     "name": "stderr",
     "output_type": "stream",
     "text": [
      "/Users/wenqianzhang/opt/anaconda3/lib/python3.8/site-packages/IPython/core/interactiveshell.py:3165: DtypeWarning: Columns (2,3) have mixed types.Specify dtype option on import or set low_memory=False.\n",
      "  has_raised = await self.run_ast_nodes(code_ast.body, cell_name,\n"
     ]
    },
    {
     "data": {
      "text/html": [
       "<div>\n",
       "<style scoped>\n",
       "    .dataframe tbody tr th:only-of-type {\n",
       "        vertical-align: middle;\n",
       "    }\n",
       "\n",
       "    .dataframe tbody tr th {\n",
       "        vertical-align: top;\n",
       "    }\n",
       "\n",
       "    .dataframe thead th {\n",
       "        text-align: right;\n",
       "    }\n",
       "</style>\n",
       "<table border=\"1\" class=\"dataframe\">\n",
       "  <thead>\n",
       "    <tr style=\"text-align: right;\">\n",
       "      <th></th>\n",
       "      <th>CountryName</th>\n",
       "      <th>CountryCode</th>\n",
       "      <th>RegionName</th>\n",
       "      <th>RegionCode</th>\n",
       "      <th>Jurisdiction</th>\n",
       "      <th>Date</th>\n",
       "      <th>C1_School closing</th>\n",
       "      <th>C1_Flag</th>\n",
       "      <th>C2_Workplace closing</th>\n",
       "      <th>C2_Flag</th>\n",
       "      <th>...</th>\n",
       "      <th>StringencyIndex</th>\n",
       "      <th>StringencyIndexForDisplay</th>\n",
       "      <th>StringencyLegacyIndex</th>\n",
       "      <th>StringencyLegacyIndexForDisplay</th>\n",
       "      <th>GovernmentResponseIndex</th>\n",
       "      <th>GovernmentResponseIndexForDisplay</th>\n",
       "      <th>ContainmentHealthIndex</th>\n",
       "      <th>ContainmentHealthIndexForDisplay</th>\n",
       "      <th>EconomicSupportIndex</th>\n",
       "      <th>EconomicSupportIndexForDisplay</th>\n",
       "    </tr>\n",
       "  </thead>\n",
       "  <tbody>\n",
       "    <tr>\n",
       "      <th>0</th>\n",
       "      <td>Aruba</td>\n",
       "      <td>ABW</td>\n",
       "      <td>NaN</td>\n",
       "      <td>NaN</td>\n",
       "      <td>NAT_TOTAL</td>\n",
       "      <td>20200101</td>\n",
       "      <td>0.0</td>\n",
       "      <td>NaN</td>\n",
       "      <td>0.0</td>\n",
       "      <td>NaN</td>\n",
       "      <td>...</td>\n",
       "      <td>0.0</td>\n",
       "      <td>0.0</td>\n",
       "      <td>0.0</td>\n",
       "      <td>0.0</td>\n",
       "      <td>0.0</td>\n",
       "      <td>0.0</td>\n",
       "      <td>0.0</td>\n",
       "      <td>0.0</td>\n",
       "      <td>0.0</td>\n",
       "      <td>0.0</td>\n",
       "    </tr>\n",
       "    <tr>\n",
       "      <th>1</th>\n",
       "      <td>Aruba</td>\n",
       "      <td>ABW</td>\n",
       "      <td>NaN</td>\n",
       "      <td>NaN</td>\n",
       "      <td>NAT_TOTAL</td>\n",
       "      <td>20200102</td>\n",
       "      <td>0.0</td>\n",
       "      <td>NaN</td>\n",
       "      <td>0.0</td>\n",
       "      <td>NaN</td>\n",
       "      <td>...</td>\n",
       "      <td>0.0</td>\n",
       "      <td>0.0</td>\n",
       "      <td>0.0</td>\n",
       "      <td>0.0</td>\n",
       "      <td>0.0</td>\n",
       "      <td>0.0</td>\n",
       "      <td>0.0</td>\n",
       "      <td>0.0</td>\n",
       "      <td>0.0</td>\n",
       "      <td>0.0</td>\n",
       "    </tr>\n",
       "    <tr>\n",
       "      <th>2</th>\n",
       "      <td>Aruba</td>\n",
       "      <td>ABW</td>\n",
       "      <td>NaN</td>\n",
       "      <td>NaN</td>\n",
       "      <td>NAT_TOTAL</td>\n",
       "      <td>20200103</td>\n",
       "      <td>0.0</td>\n",
       "      <td>NaN</td>\n",
       "      <td>0.0</td>\n",
       "      <td>NaN</td>\n",
       "      <td>...</td>\n",
       "      <td>0.0</td>\n",
       "      <td>0.0</td>\n",
       "      <td>0.0</td>\n",
       "      <td>0.0</td>\n",
       "      <td>0.0</td>\n",
       "      <td>0.0</td>\n",
       "      <td>0.0</td>\n",
       "      <td>0.0</td>\n",
       "      <td>0.0</td>\n",
       "      <td>0.0</td>\n",
       "    </tr>\n",
       "    <tr>\n",
       "      <th>3</th>\n",
       "      <td>Aruba</td>\n",
       "      <td>ABW</td>\n",
       "      <td>NaN</td>\n",
       "      <td>NaN</td>\n",
       "      <td>NAT_TOTAL</td>\n",
       "      <td>20200104</td>\n",
       "      <td>0.0</td>\n",
       "      <td>NaN</td>\n",
       "      <td>0.0</td>\n",
       "      <td>NaN</td>\n",
       "      <td>...</td>\n",
       "      <td>0.0</td>\n",
       "      <td>0.0</td>\n",
       "      <td>0.0</td>\n",
       "      <td>0.0</td>\n",
       "      <td>0.0</td>\n",
       "      <td>0.0</td>\n",
       "      <td>0.0</td>\n",
       "      <td>0.0</td>\n",
       "      <td>0.0</td>\n",
       "      <td>0.0</td>\n",
       "    </tr>\n",
       "    <tr>\n",
       "      <th>4</th>\n",
       "      <td>Aruba</td>\n",
       "      <td>ABW</td>\n",
       "      <td>NaN</td>\n",
       "      <td>NaN</td>\n",
       "      <td>NAT_TOTAL</td>\n",
       "      <td>20200105</td>\n",
       "      <td>0.0</td>\n",
       "      <td>NaN</td>\n",
       "      <td>0.0</td>\n",
       "      <td>NaN</td>\n",
       "      <td>...</td>\n",
       "      <td>0.0</td>\n",
       "      <td>0.0</td>\n",
       "      <td>0.0</td>\n",
       "      <td>0.0</td>\n",
       "      <td>0.0</td>\n",
       "      <td>0.0</td>\n",
       "      <td>0.0</td>\n",
       "      <td>0.0</td>\n",
       "      <td>0.0</td>\n",
       "      <td>0.0</td>\n",
       "    </tr>\n",
       "  </tbody>\n",
       "</table>\n",
       "<p>5 rows × 61 columns</p>\n",
       "</div>"
      ],
      "text/plain": [
       "  CountryName CountryCode RegionName RegionCode Jurisdiction      Date  \\\n",
       "0       Aruba         ABW        NaN        NaN    NAT_TOTAL  20200101   \n",
       "1       Aruba         ABW        NaN        NaN    NAT_TOTAL  20200102   \n",
       "2       Aruba         ABW        NaN        NaN    NAT_TOTAL  20200103   \n",
       "3       Aruba         ABW        NaN        NaN    NAT_TOTAL  20200104   \n",
       "4       Aruba         ABW        NaN        NaN    NAT_TOTAL  20200105   \n",
       "\n",
       "   C1_School closing  C1_Flag  C2_Workplace closing  C2_Flag  ...  \\\n",
       "0                0.0      NaN                   0.0      NaN  ...   \n",
       "1                0.0      NaN                   0.0      NaN  ...   \n",
       "2                0.0      NaN                   0.0      NaN  ...   \n",
       "3                0.0      NaN                   0.0      NaN  ...   \n",
       "4                0.0      NaN                   0.0      NaN  ...   \n",
       "\n",
       "   StringencyIndex  StringencyIndexForDisplay  StringencyLegacyIndex  \\\n",
       "0              0.0                        0.0                    0.0   \n",
       "1              0.0                        0.0                    0.0   \n",
       "2              0.0                        0.0                    0.0   \n",
       "3              0.0                        0.0                    0.0   \n",
       "4              0.0                        0.0                    0.0   \n",
       "\n",
       "   StringencyLegacyIndexForDisplay  GovernmentResponseIndex  \\\n",
       "0                              0.0                      0.0   \n",
       "1                              0.0                      0.0   \n",
       "2                              0.0                      0.0   \n",
       "3                              0.0                      0.0   \n",
       "4                              0.0                      0.0   \n",
       "\n",
       "   GovernmentResponseIndexForDisplay  ContainmentHealthIndex  \\\n",
       "0                                0.0                     0.0   \n",
       "1                                0.0                     0.0   \n",
       "2                                0.0                     0.0   \n",
       "3                                0.0                     0.0   \n",
       "4                                0.0                     0.0   \n",
       "\n",
       "   ContainmentHealthIndexForDisplay  EconomicSupportIndex  \\\n",
       "0                               0.0                   0.0   \n",
       "1                               0.0                   0.0   \n",
       "2                               0.0                   0.0   \n",
       "3                               0.0                   0.0   \n",
       "4                               0.0                   0.0   \n",
       "\n",
       "   EconomicSupportIndexForDisplay  \n",
       "0                             0.0  \n",
       "1                             0.0  \n",
       "2                             0.0  \n",
       "3                             0.0  \n",
       "4                             0.0  \n",
       "\n",
       "[5 rows x 61 columns]"
      ]
     },
     "execution_count": 63,
     "metadata": {},
     "output_type": "execute_result"
    }
   ],
   "source": [
    "policy_data = pd.read_csv(\"../data/OxCGRT_latest.csv\")\n",
    "policy_data.head()"
   ]
  },
  {
   "cell_type": "code",
   "execution_count": 64,
   "id": "5222967a",
   "metadata": {},
   "outputs": [
    {
     "data": {
      "text/plain": [
       "Index(['CountryName', 'CountryCode', 'RegionName', 'RegionCode',\n",
       "       'Jurisdiction', 'Date', 'C1_School closing', 'C1_Flag',\n",
       "       'C2_Workplace closing', 'C2_Flag', 'C3_Cancel public events', 'C3_Flag',\n",
       "       'C4_Restrictions on gatherings', 'C4_Flag', 'C5_Close public transport',\n",
       "       'C5_Flag', 'C6_Stay at home requirements', 'C6_Flag',\n",
       "       'C7_Restrictions on internal movement', 'C7_Flag',\n",
       "       'C8_International travel controls', 'E1_Income support', 'E1_Flag',\n",
       "       'E2_Debt/contract relief', 'E3_Fiscal measures',\n",
       "       'E4_International support', 'H1_Public information campaigns',\n",
       "       'H1_Flag', 'H2_Testing policy', 'H3_Contact tracing',\n",
       "       'H4_Emergency investment in healthcare', 'H5_Investment in vaccines',\n",
       "       'H6_Facial Coverings', 'H6_Flag', 'H7_Vaccination policy', 'H7_Flag',\n",
       "       'H8_Protection of elderly people', 'H8_Flag', 'M1_Wildcard',\n",
       "       'V1_Vaccine Prioritisation (summary)',\n",
       "       'V2A_Vaccine Availability (summary)',\n",
       "       'V2B_Vaccine age eligibility/availability age floor (general population summary)',\n",
       "       'V2C_Vaccine age eligibility/availability age floor (at risk summary)',\n",
       "       'V2D_Medically/ clinically vulnerable (Non-elderly)', 'V2E_Education',\n",
       "       'V2F_Frontline workers  (non healthcare)',\n",
       "       'V2G_Frontline workers  (healthcare)',\n",
       "       'V3_Vaccine Financial Support (summary)',\n",
       "       'V4_Mandatory Vaccination (summary)', 'ConfirmedCases',\n",
       "       'ConfirmedDeaths', 'StringencyIndex', 'StringencyIndexForDisplay',\n",
       "       'StringencyLegacyIndex', 'StringencyLegacyIndexForDisplay',\n",
       "       'GovernmentResponseIndex', 'GovernmentResponseIndexForDisplay',\n",
       "       'ContainmentHealthIndex', 'ContainmentHealthIndexForDisplay',\n",
       "       'EconomicSupportIndex', 'EconomicSupportIndexForDisplay'],\n",
       "      dtype='object')"
      ]
     },
     "execution_count": 64,
     "metadata": {},
     "output_type": "execute_result"
    }
   ],
   "source": [
    "policy_data.columns"
   ]
  },
  {
   "cell_type": "code",
   "execution_count": 65,
   "id": "72e383b6",
   "metadata": {},
   "outputs": [],
   "source": [
    "cols = ['CountryName', 'RegionName', 'Date', 'C1_School closing', 'C2_Workplace closing', 'C3_Cancel public events', \n",
    "        'C4_Restrictions on gatherings', 'C5_Close public transport', 'C6_Stay at home requirements',\n",
    "       'C7_Restrictions on internal movement', 'C8_International travel controls', \n",
    "        'ConfirmedCases', 'ConfirmedDeaths', 'StringencyIndex']\n",
    "policy_data_new = policy_data[cols].copy()"
   ]
  },
  {
   "cell_type": "code",
   "execution_count": 66,
   "id": "f540db8e",
   "metadata": {},
   "outputs": [],
   "source": [
    "countries = ['Canada', 'United States', 'Mexico', 'Japan', 'China']\n",
    "policy_data_new = policy_data_new[policy_data_new['CountryName'].isin(countries)].copy()"
   ]
  },
  {
   "cell_type": "code",
   "execution_count": 67,
   "id": "296a981f",
   "metadata": {},
   "outputs": [],
   "source": [
    "policy_data_new['Date'] = pd.to_datetime(policy_data_new['Date'], format=\"%Y%m%d\")"
   ]
  },
  {
   "cell_type": "code",
   "execution_count": 68,
   "id": "e1bea9f7",
   "metadata": {},
   "outputs": [],
   "source": [
    "policy_data_new = policy_data_new.fillna(0)\n",
    "policy_data_new['month'] = policy_data_new['Date'].apply(lambda x: str(x.year) + '-' + str(x.month))"
   ]
  },
  {
   "cell_type": "code",
   "execution_count": 69,
   "id": "d175971f",
   "metadata": {},
   "outputs": [],
   "source": [
    "agg_data = policy_data_new.groupby(['CountryName', 'month']).sum().reset_index()"
   ]
  },
  {
   "cell_type": "code",
   "execution_count": 70,
   "id": "557f41af",
   "metadata": {},
   "outputs": [],
   "source": [
    "poli = ['C1_School closing', 'C2_Workplace closing', 'C3_Cancel public events', \n",
    "        'C4_Restrictions on gatherings', 'C5_Close public transport', 'C6_Stay at home requirements',\n",
    "       'C7_Restrictions on internal movement', 'C8_International travel controls']\n",
    "\n",
    "for pol in poli:\n",
    "    agg_data[pol] = agg_data[pol].apply(lambda x: 1 if x > 0 else 0)"
   ]
  },
  {
   "cell_type": "code",
   "execution_count": 71,
   "id": "dcfb38d7",
   "metadata": {},
   "outputs": [],
   "source": [
    "agg_data['month'] = pd.to_datetime(agg_data['month'])"
   ]
  },
  {
   "cell_type": "code",
   "execution_count": 72,
   "id": "2e9fd219",
   "metadata": {},
   "outputs": [],
   "source": [
    "imp_data['month'] = imp_data['Time'].apply(lambda x: str(x)[: 7])\n",
    "imp_data['month'] = pd.to_datetime(imp_data['month'])"
   ]
  },
  {
   "cell_type": "code",
   "execution_count": 73,
   "id": "7949041f",
   "metadata": {},
   "outputs": [],
   "source": [
    "data_all = pd.merge(imp_data, agg_data, left_on=['Country', 'month'], right_on=['CountryName', 'month'], how='left')\n",
    "data_all.fillna(0, inplace=True)\n",
    "data_all.drop(columns=['Time', 'CountryName'], inplace=True)"
   ]
  },
  {
   "cell_type": "code",
   "execution_count": 74,
   "id": "8ddbbde4",
   "metadata": {},
   "outputs": [],
   "source": [
    "data_all['log_cases'] = np.log1p(data_all['ConfirmedCases'])\n",
    "data_all['log_death'] = np.log1p(data_all['ConfirmedDeaths'])"
   ]
  },
  {
   "cell_type": "code",
   "execution_count": 75,
   "id": "921c2dd5",
   "metadata": {},
   "outputs": [],
   "source": [
    "us_policy = agg_data[agg_data['CountryName']=='United States'].copy()\n",
    "us_policy['log_cases'] = np.log1p(us_policy['ConfirmedCases'])\n",
    "us_policy['log_death'] = np.log1p(us_policy['ConfirmedDeaths'])"
   ]
  },
  {
   "cell_type": "code",
   "execution_count": 76,
   "id": "b6099acf",
   "metadata": {},
   "outputs": [],
   "source": [
    "data_all = pd.merge(data_all, us_policy, on=['month'], how='left', suffixes=['_org', '_dst']).fillna(0)"
   ]
  },
  {
   "cell_type": "code",
   "execution_count": 77,
   "id": "c6311b18",
   "metadata": {},
   "outputs": [],
   "source": [
    "data_all.to_csv('../data/processed/import_policy.csv', index=False)"
   ]
  },
  {
   "cell_type": "code",
   "execution_count": null,
   "id": "34c2db5b",
   "metadata": {},
   "outputs": [],
   "source": []
  }
 ],
 "metadata": {
  "kernelspec": {
   "display_name": "Python 3",
   "language": "python",
   "name": "python3"
  },
  "language_info": {
   "codemirror_mode": {
    "name": "ipython",
    "version": 3
   },
   "file_extension": ".py",
   "mimetype": "text/x-python",
   "name": "python",
   "nbconvert_exporter": "python",
   "pygments_lexer": "ipython3",
   "version": "3.8.8"
  }
 },
 "nbformat": 4,
 "nbformat_minor": 5
}
