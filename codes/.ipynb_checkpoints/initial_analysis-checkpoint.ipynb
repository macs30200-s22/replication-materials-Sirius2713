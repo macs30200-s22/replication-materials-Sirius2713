{
 "cells": [
  {
   "cell_type": "code",
   "execution_count": 1,
   "id": "77abbd3a",
   "metadata": {},
   "outputs": [],
   "source": [
    "import numpy as np\n",
    "import pandas as pd\n",
    "import statsmodels.api as sm\n",
    "import statsmodels.formula.api as smf\n",
    "\n",
    "def regression_analysis(data_path):\n",
    "    data = pd.read_csv(data_path)\n",
    "    data.columns = [x.replace(' ', '_') for x in data.columns]\n",
    "    vc = {'date': '0 + C(date)'}\n",
    "    md = smf.mixedlm('Price_Index ~ date + C1_School_closing_org + C2_Workplace_closing_org + C3_Cancel_public_events_org + C4_Restrictions_on_gatherings_org + C5_Close_public_transport_org + C6_Stay_at_home_requirements_org + C7_Restrictions_on_internal_movement_org + C8_International_travel_controls_org + log_cases_org + log_death_org + log_cases_dst + log_death_dst', vc_formula=vc,\n",
    "                re_formula='1', data=data, groups='Country')\n",
    "    mdf = md.fit(method=[\"lbfgs\"])\n",
    "    print(mdf.summary())\n",
    "    \n",
    "    return"
   ]
  }
 ],
 "metadata": {
  "kernelspec": {
   "display_name": "Python 3",
   "language": "python",
   "name": "python3"
  },
  "language_info": {
   "codemirror_mode": {
    "name": "ipython",
    "version": 3
   },
   "file_extension": ".py",
   "mimetype": "text/x-python",
   "name": "python",
   "nbconvert_exporter": "python",
   "pygments_lexer": "ipython3",
   "version": "3.8.8"
  }
 },
 "nbformat": 4,
 "nbformat_minor": 5
}
